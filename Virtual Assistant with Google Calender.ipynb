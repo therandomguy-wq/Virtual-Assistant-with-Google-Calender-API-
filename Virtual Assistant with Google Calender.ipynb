{
  "nbformat": 4,
  "nbformat_minor": 0,
  "metadata": {
    "kernelspec": {
      "display_name": "Python 3",
      "language": "python",
      "name": "python3"
    },
    "language_info": {
      "codemirror_mode": {
        "name": "ipython",
        "version": 3
      },
      "file_extension": ".py",
      "mimetype": "text/x-python",
      "name": "python",
      "nbconvert_exporter": "python",
      "pygments_lexer": "ipython3",
      "version": "3.7.6"
    },
    "colab": {
      "name": "first.ipynb",
      "provenance": []
    }
  },
  "cells": [
    {
      "cell_type": "code",
      "metadata": {
        "id": "v2tlQVPeoStC",
        "colab_type": "code",
        "colab": {}
      },
      "source": [
        "from __future__ import print_function\n",
        "import datetime\n",
        "import pickle\n",
        "import os.path\n",
        "from googleapiclient.discovery import build\n",
        "from google_auth_oauthlib.flow import InstalledAppFlow\n",
        "from google.auth.transport.requests import Request"
      ],
      "execution_count": null,
      "outputs": []
    },
    {
      "cell_type": "code",
      "metadata": {
        "id": "ZppyI-aqoSs4",
        "colab_type": "code",
        "colab": {}
      },
      "source": [
        "import pandas as pd\n",
        "import numpy as np\n",
        "from sklearn.feature_extraction.text import CountVectorizer\n",
        "from sklearn.metrics.pairwise import cosine_similarity\n",
        "###### helper functions. Use them when needed #######\n",
        "def get_title_from_index(index):\n",
        "\treturn df[df.index == index][\"title\"].values[0]\n",
        "def get_index_from_title(title):\n",
        "\treturn df[df.title == title][\"index\"].values[0]\n",
        "##################################################"
      ],
      "execution_count": null,
      "outputs": []
    },
    {
      "cell_type": "code",
      "metadata": {
        "id": "U7KJx5zaoSs9",
        "colab_type": "code",
        "colab": {}
      },
      "source": [
        "df=pd.read_csv(r\"\\Desktop\\movie_dataset.csv\")"
      ],
      "execution_count": 1,
      "outputs": []
    },
    {
      "cell_type": "code",
      "metadata": {
        "id": "l6yGbW8EoStU",
        "colab_type": "code",
        "colab": {}
      },
      "source": [
        "import os\n",
        "import time\n",
        "import playsound\n",
        "import speech_recognition as sr\n",
        "from gtts import gTTS\n",
        "import pyttsx3"
      ],
      "execution_count": null,
      "outputs": []
    },
    {
      "cell_type": "code",
      "metadata": {
        "id": "4d83qU57oStW",
        "colab_type": "code",
        "colab": {}
      },
      "source": [
        "import pytz"
      ],
      "execution_count": null,
      "outputs": []
    },
    {
      "cell_type": "code",
      "metadata": {
        "id": "uCos5OEEoStY",
        "colab_type": "code",
        "colab": {}
      },
      "source": [
        "import subprocess"
      ],
      "execution_count": null,
      "outputs": []
    },
    {
      "cell_type": "code",
      "metadata": {
        "id": "AmjZ26Q9oSta",
        "colab_type": "code",
        "colab": {}
      },
      "source": [
        "def speak(text,mm):\n",
        "  tts=gTTS(text=text,lang='en',slow=False)\n",
        "  filename='voice'+str(mm)+'.mp3'\n",
        "  tts.save(filename)\n",
        "  playsound.playsound(filename)"
      ],
      "execution_count": null,
      "outputs": []
    },
    {
      "cell_type": "code",
      "metadata": {
        "id": "GJY2SRO9oStc",
        "colab_type": "code",
        "colab": {}
      },
      "source": [
        "def get_audio():\n",
        "    r=sr.Recognizer()\n",
        "    with sr.Microphone() as source:\n",
        "        audio=r.listen(source)\n",
        "        said=''\n",
        "        \n",
        "        try:\n",
        "            said=r.recognize_google(audio)\n",
        "            print(said)\n",
        "        except Exception as e:\n",
        "            print(\"Exception \" + str(e))\n",
        "    return said.lower()"
      ],
      "execution_count": null,
      "outputs": []
    },
    {
      "cell_type": "code",
      "metadata": {
        "id": "670O4dIjoStS",
        "colab_type": "code",
        "colab": {}
      },
      "source": [
        "# If modifying these scopes, delete the file token.pickle.\n",
        "SCOPES = ['https://www.googleapis.com/auth/calendar.readonly']\n",
        "DAYS=['monday','tuesday','wednesday','thursday','friday','saturday','sunday']\n",
        "MONTHS=['january','february','march','april','may','june','july','august','september','october','november','december']\n",
        "days_extension=['rd','th','st','nd']"
      ],
      "execution_count": null,
      "outputs": []
    },
    {
      "cell_type": "code",
      "metadata": {
        "id": "QjM6NjpOoSti",
        "colab_type": "code",
        "colab": {}
      },
      "source": [
        "if 'hello' in text:\n",
        "    speak('Hello, so nice of you to talk with me')"
      ],
      "execution_count": null,
      "outputs": []
    },
    {
      "cell_type": "code",
      "metadata": {
        "id": "I7MvReyBoStl",
        "colab_type": "code",
        "colab": {}
      },
      "source": [
        "if 'what is your name' in text:\n",
        "    speak('My name is Alexa')"
      ],
      "execution_count": null,
      "outputs": []
    },
    {
      "cell_type": "code",
      "metadata": {
        "id": "5niEC5cMoStn",
        "colab_type": "code",
        "colab": {}
      },
      "source": [
        "def authenticate_google():\n",
        "    \"\"\"Shows basic usage of the Google Calendar API.\n",
        "    Prints the start and name of the next 10 events on the user's calendar.\n",
        "    \"\"\"\n",
        "    creds = None\n",
        "    if os.path.exists('token.pickle'):\n",
        "        with open('token.pickle', 'rb') as token:\n",
        "            creds = pickle.load(token)\n",
        "    # If there are no (valid) credentials available, let the user log in.\n",
        "    if not creds or not creds.valid:\n",
        "        if creds and creds.expired and creds.refresh_token:\n",
        "            creds.refresh(Request())\n",
        "        else:\n",
        "            flow = InstalledAppFlow.from_client_secrets_file(\n",
        "                'credentials.json', SCOPES)\n",
        "            creds = flow.run_local_server(port=0)\n",
        "        # Save the credentials for the next run\n",
        "        with open('token.pickle', 'wb') as token:\n",
        "            pickle.dump(creds, token)\n",
        "\n",
        "    service = build('calendar', 'v3', credentials=creds)\n",
        "    \n",
        "    return service\n",
        "\n",
        "def get_events(day,service):\n",
        "    date=datetime.datetime.combine(day,datetime.datetime.min.time())\n",
        "    end_date=datetime.datetime.combine(day,datetime.datetime.max.time())\n",
        "    utc=pytz.UTC\n",
        "    date=date.astimezone(utc)\n",
        "    end_date=end_date.astimezone(utc)\n",
        "    \n",
        "    events_result = service.events().list(calendarId='primary', timeMin=date.isoformat(),timeMax=end_date.isoformat(),\n",
        "                                         singleEvents=True,\n",
        "                                        orderBy='startTime').execute()\n",
        "    events = events_result.get('items', [])\n",
        "\n",
        "    if not events:\n",
        "        speak('No upcoming events found.')\n",
        "    \n",
        "    else:\n",
        "        speak(f'You have {len(events)} events on this day.',98090)\n",
        "        count=0\n",
        "        for event in events:\n",
        "            start = event['start'].get('dateTime', event['start'].get('date'))\n",
        "            start_time=str(start.split('T')[1].split(\"-\")[0])\n",
        "            if int(start_time.split(\":\")[0])<12:\n",
        "                start_time=start_time+'AM'\n",
        "            elif int(start_time.split(\":\")[0])==12:\n",
        "                start_time=start_time.split(\":\")[0]+':'+start_time.split(\":\")[1]+' PM'\n",
        "            else:\n",
        "                start_time=str(int(start_time.split(\":\")[0])-12)+':'+start_time.split(\":\")[1]\n",
        "                start_time=start_time+' PM'\n",
        "            count=count+1\n",
        "            speak(event['summary']+' at '+start_time,count)\n",
        "            print(event['summary']+' at '+start_time)"
      ],
      "execution_count": null,
      "outputs": []
    },
    {
      "cell_type": "code",
      "metadata": {
        "id": "lkQ3H5qkoStp",
        "colab_type": "code",
        "colab": {}
      },
      "source": [
        "def get_date(text):\n",
        "    text=text.lower()\n",
        "    today=datetime.date.today()\n",
        "    \n",
        "    if text.count('today')>0:\n",
        "        return today\n",
        "    \n",
        "    day=-1\n",
        "    day_of_week=-1\n",
        "    month=-1\n",
        "    year=today.year\n",
        "    \n",
        "    for word in text.split():\n",
        "        if word in MONTHS:\n",
        "            month=MONTHS.index(word) + 1\n",
        "        elif word in DAYS:\n",
        "            day_of_week=DAYS.index(word)\n",
        "        elif word.isdigit():\n",
        "            day=int(word)\n",
        "        else:\n",
        "            for ext in days_extension:\n",
        "                found=word.find(ext)\n",
        "                if found>0:\n",
        "                    try:\n",
        "                        day=int(word[:found])\n",
        "                    except:\n",
        "                        pass\n",
        "        \n",
        "    if month<today.month and month!=-1:\n",
        "        year=year+1\n",
        "    \n",
        "    if day<today.day and month ==-1 and day!=-1:\n",
        "        month=month+1\n",
        "    \n",
        "    if month==-1 and day==-1 and day_of_week !=-1:\n",
        "        current_day_of_week=today.weekday()\n",
        "        dif=day_of_week - current_day_of_week\n",
        "        \n",
        "        if dif<0:\n",
        "            dif+=7\n",
        "            if text.count('next')>=1:\n",
        "                dif=dif+7\n",
        "        return today+datetime.timedelta(dif)\n",
        "    if month==-1 or day==-1:\n",
        "        return None\n",
        "    return datetime.date(month=month,day=day,year=year)"
      ],
      "execution_count": null,
      "outputs": []
    },
    {
      "cell_type": "code",
      "metadata": {
        "id": "ZK-23TOGoStr",
        "colab_type": "code",
        "colab": {}
      },
      "source": [
        "def note(text):\n",
        "    date=datetime.datetime.now()\n",
        "    file_name= str(date).replace(':','-') + '-note.txt'\n",
        "    with open(file_name,'w') as f:\n",
        "        f.write(text)\n",
        "    \n",
        "    sublime='C:\\Program Files\\Sublime Text 3\\sublime_text.exe'\n",
        "    subprocess.Popen(['notepad.exe',file_name])"
      ],
      "execution_count": null,
      "outputs": []
    },
    {
      "cell_type": "code",
      "metadata": {
        "id": "QPLf9NgMoStt",
        "colab_type": "code",
        "colab": {}
      },
      "source": [
        "# Making a note\n",
        "note('Akarsh is a good boy')"
      ],
      "execution_count": null,
      "outputs": []
    },
    {
      "cell_type": "code",
      "metadata": {
        "id": "m3wbzK2MoStv",
        "colab_type": "code",
        "colab": {}
      },
      "source": [
        "speak('Hello Akarsh, My name is Alexa',98765)"
      ],
      "execution_count": null,
      "outputs": []
    },
    {
      "cell_type": "code",
      "metadata": {
        "id": "haKga89toStx",
        "colab_type": "code",
        "colab": {}
      },
      "source": [
        "WAKE='hey alexa'"
      ],
      "execution_count": null,
      "outputs": []
    },
    {
      "cell_type": "code",
      "metadata": {
        "id": "uGYkwswJoStz",
        "colab_type": "code",
        "colab": {},
        "outputId": "a3654486-f5ff-4003-ba54-75063d463e71"
      },
      "source": [
        "# Authenticating with Google Calendar\n",
        "SERVICE=authenticate_google()\n",
        "print('Start')"
      ],
      "execution_count": null,
      "outputs": [
        {
          "output_type": "stream",
          "text": [
            "Start\n"
          ],
          "name": "stdout"
        }
      ]
    },
    {
      "cell_type": "code",
      "metadata": {
        "id": "gXLgqN0doSt1",
        "colab_type": "code",
        "colab": {},
        "outputId": "776b9b03-3514-4de8-e124-80c000ca2322"
      },
      "source": [
        "while True:\n",
        "    print('Listening, Akarsh')\n",
        "    text=get_audio().lower()\n",
        "    \n",
        "    if text.count(WAKE)>0:\n",
        "        speak('I am ready Akarsh',456789)\n",
        "        text=get_audio()\n",
        "        \n",
        "        \n",
        "        # Taking Note\n",
        "        CALENDAR_STRS=['what do i have','do i have plans','am i busy']\n",
        "        \n",
        "        # Process for speaking schedule\n",
        "        for phrase in CALENDAR_STRS:\n",
        "            if phrase in text.lower():\n",
        "                date=get_date(text)\n",
        "                if date:\n",
        "                  get_events(get_date(text),SERVICE)  \n",
        "                else:\n",
        "                    speak('I did not undersyand what you meant, Akarsh',234)\n",
        "                    \n",
        "        # Taking Notes\n",
        "        NOTE_STR=['make a note','write this down','remember this']\n",
        "        \n",
        "        # Process for taking the notes\n",
        "        for phrase in NOTE_STR:\n",
        "            if phrase in text:\n",
        "                speak('what would you like me to write down?',23322)\n",
        "                note_text=get_audio()\n",
        "                note(note_text)\n",
        "                speak('I have made a note of that, Akarsh',1234)"
      ],
      "execution_count": null,
      "outputs": [
        {
          "output_type": "stream",
          "text": [
            "Listening, Akarsh\n",
            "hey Alexa\n",
            "make a note\n",
            "Akash is a good boy\n",
            "Listening, Akarsh\n",
            "Exception \n",
            "Listening, Akarsh\n"
          ],
          "name": "stdout"
        }
      ]
    },
    {
      "cell_type": "code",
      "metadata": {
        "id": "BPe8HXSAoSt3",
        "colab_type": "code",
        "colab": {},
        "outputId": "7a8eb857-18ef-4b4b-e9f5-780533861f8a"
      },
      "source": [
        "# Schedule Checking\n",
        "text=get_audio()"
      ],
      "execution_count": null,
      "outputs": [
        {
          "output_type": "stream",
          "text": [
            "what do I have on Thursday\n"
          ],
          "name": "stdout"
        }
      ]
    },
    {
      "cell_type": "code",
      "metadata": {
        "id": "4qjWU9kPoSt5",
        "colab_type": "code",
        "colab": {},
        "outputId": "3bf31d4f-561b-4944-cbbd-020e378dc2fc"
      },
      "source": [
        "# Schedule Speaking\n",
        "get_events(get_date(text),SERVICE)"
      ],
      "execution_count": null,
      "outputs": [
        {
          "output_type": "stream",
          "text": [
            "Meeting with Elon Musk at 12 PM\n",
            "Taking Online Lectures at 1:00 PM\n",
            "Submitting the Engineering Mechanics Assignment at 2:30 PM\n"
          ],
          "name": "stdout"
        }
      ]
    },
    {
      "cell_type": "code",
      "metadata": {
        "id": "gFhYHlXYoSt9",
        "colab_type": "code",
        "colab": {}
      },
      "source": [
        "# For speaking the schedule"
      ],
      "execution_count": null,
      "outputs": []
    },
    {
      "cell_type": "code",
      "metadata": {
        "scrolled": true,
        "id": "B9CqI0D7oSt_",
        "colab_type": "code",
        "colab": {},
        "outputId": "407fff36-d978-4efc-b77d-e82f555d7696"
      },
      "source": [
        "# Process for speaking schedule\n",
        "for phrase in CALENDAR_STRS:\n",
        "    if phrase in text.lower():\n",
        "        date=get_date(text)\n",
        "        if date:\n",
        "          get_events(get_date(text),SERVICE)  \n",
        "        else:\n",
        "            speak('Please try again',234)"
      ],
      "execution_count": null,
      "outputs": [
        {
          "output_type": "stream",
          "text": [
            "Meeting with Elon Musk at 12:00 PM\n",
            "Taking Online Lectures at 1:00 PM\n",
            "Submitting the Engineering Mechanics Assignment at 2:30 PM\n"
          ],
          "name": "stdout"
        }
      ]
    },
    {
      "cell_type": "code",
      "metadata": {
        "id": "Yex_rlAfoSuF",
        "colab_type": "code",
        "colab": {}
      },
      "source": [
        "# For making the Notes"
      ],
      "execution_count": null,
      "outputs": []
    },
    {
      "cell_type": "code",
      "metadata": {
        "id": "_2TTa1tQoSuI",
        "colab_type": "code",
        "colab": {}
      },
      "source": [
        "# Taking Notes\n",
        "NOTE_STR=['make a note','write this down','remember this']\n",
        "for phrase in NOTE_STR:\n",
        "    if phrase in text:\n",
        "        speak('what would you like me to write down?',23322)\n",
        "        note_text=get_audio()\n",
        "        note(note_text)\n",
        "        speak('I have made a note of that, Akarsh',1234)"
      ],
      "execution_count": null,
      "outputs": []
    }
  ]
}